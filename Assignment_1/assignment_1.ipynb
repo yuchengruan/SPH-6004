{
 "cells": [
  {
   "cell_type": "code",
   "execution_count": 1,
   "id": "3835ae69-c67a-44cd-b9f1-230704f167f1",
   "metadata": {},
   "outputs": [],
   "source": [
    "import pandas as pd\n",
    "from sklearn.model_selection import train_test_split, GridSearchCV\n",
    "from sklearn.feature_selection import mutual_info_classif\n",
    "from sklearn.preprocessing import OrdinalEncoder\n",
    "from sklearn.metrics import roc_auc_score, roc_curve\n",
    "from sklearn.svm import SVC\n",
    "import numpy as np\n",
    "import random\n",
    "import matplotlib.pyplot as plt\n",
    "from sklearn.linear_model import LogisticRegression\n",
    "from sklearn.ensemble import RandomForestClassifier\n",
    "from imblearn.over_sampling import SMOTE"
   ]
  },
  {
   "cell_type": "code",
   "execution_count": 2,
   "id": "3235073f-57e7-47c3-b9df-1f42705e658f",
   "metadata": {},
   "outputs": [],
   "source": [
    "data = pd.read_csv(\"./train.csv\")\n",
    "data[\"label\"] = data[\"label\"].astype(\"int\")"
   ]
  },
  {
   "cell_type": "markdown",
   "id": "308d7fce-d366-454c-b117-9488837204c0",
   "metadata": {},
   "source": [
    "Before selecting the right features for predictive model, we are supposed to deal with all missing values in the dataset."
   ]
  },
  {
   "cell_type": "markdown",
   "id": "6c5d0fe9-87bc-4a6f-80ba-0f82bb6b3fcf",
   "metadata": {},
   "source": [
    "# Split the dataset into training set and test set\n",
    "Before going to the analysis part, data split should be done at the first place.\n",
    "\n",
    "training set:test set = 4:1"
   ]
  },
  {
   "cell_type": "code",
   "execution_count": 3,
   "id": "63a8f5e9-6559-44c0-8370-35c248b73d32",
   "metadata": {},
   "outputs": [],
   "source": [
    "data_train, data_test = train_test_split(data, test_size = 0.2, random_state=666)"
   ]
  },
  {
   "cell_type": "markdown",
   "id": "930b2ee1-af58-4b5e-9d3f-a9b97820e497",
   "metadata": {
    "tags": []
   },
   "source": [
    "# Identify the percentage of missing values in each feature\n",
    "Based on training set, we are intending to remove those features with more than 40% NaNs because they will not be able to provide enough information to the modeling"
   ]
  },
  {
   "cell_type": "code",
   "execution_count": 4,
   "id": "e74236a2-432d-4c27-b2be-07453eead72f",
   "metadata": {},
   "outputs": [
    {
     "name": "stdout",
     "output_type": "stream",
     "text": [
      "Capillary refill rate: 0.9824745147325793\n",
      "Height: 0.8093143415724061\n",
      "Fraction inspired oxygen: 0.6999022482893451\n",
      "Glascow coma scale total: 0.4240329562910208\n",
      "Weight: 0.2708420611646418\n",
      "pH: 0.17623236978075688\n",
      "Temperature: 0.020039100684261974\n",
      "Respiratory rate: 0.012637899734673929\n",
      "Mean blood pressure: 0.012358609132802682\n",
      "Diastolic blood pressure: 0.01228878648233487\n",
      "Heart Rate: 0.01228878648233487\n",
      "Systolic blood pressure: 0.01228878648233487\n",
      "Glascow coma scale verbal response: 0.009495880463622399\n",
      "Glascow coma scale motor response: 0.009426057813154587\n",
      "Glascow coma scale eye opening: 0.009286412512218964\n",
      "Oxygen saturation: 0.006842619745845552\n",
      "Glucose: 0.0008378718056137411\n",
      "icustay id: 0.0\n",
      "label: 0.0\n"
     ]
    }
   ],
   "source": [
    "col_ls = dict()\n",
    "for column_name in data_train.columns:\n",
    "    col_ls[column_name] = len(data_train[data_train[column_name].isna()])/len(data_train)\n",
    "\n",
    "for i in sorted(col_ls.items(), key = lambda x: x[1], reverse = True):\n",
    "    print(f\"{i[0]}: {i[1]}\")\n"
   ]
  },
  {
   "cell_type": "markdown",
   "id": "09c619cf-defb-4524-99ad-b5dfbf0d4bd8",
   "metadata": {},
   "source": [
    "## Columns with an acceptable number of NaNs (<40%)\n",
    "* Weight (continuous)\n",
    "* pH (continuous)\n",
    "* Temperature (continuous)\n",
    "* Respiratory rate (continuous)\n",
    "* Mean blood pressure (continuous)\n",
    "* Diastolic blood pressure (continuous)\n",
    "* Heart Rate (continuous)\n",
    "* Systolic blood pressure (continuous)\n",
    "* Glascow coma scale verbal response (categorical)\n",
    "* Glascow coma scale motor response (categorical)\n",
    "* Glascow coma scale eye opening (categorical)\n",
    "* Oxygen saturation (continuous)\n",
    "* Glucose (continuous)"
   ]
  },
  {
   "cell_type": "code",
   "execution_count": 5,
   "id": "e8086d24-30c7-416e-aefd-df18dd718a00",
   "metadata": {},
   "outputs": [],
   "source": [
    "data_tr_new = data_train[[\"Weight\", \"pH\", \"Temperature\", \"Respiratory rate\", \"Mean blood pressure\", \"Diastolic blood pressure\", \"Heart Rate\", \n",
    "                 \"Systolic blood pressure\", \"Glascow coma scale verbal response\", \"Glascow coma scale motor response\", \n",
    "                \"Glascow coma scale eye opening\", \"Oxygen saturation\", \"Glucose\", \"label\"]]\n",
    "data_te_new = data_test[[\"Weight\", \"pH\", \"Temperature\", \"Respiratory rate\", \"Mean blood pressure\", \"Diastolic blood pressure\", \"Heart Rate\", \n",
    "                 \"Systolic blood pressure\", \"Glascow coma scale verbal response\", \"Glascow coma scale motor response\", \n",
    "                \"Glascow coma scale eye opening\", \"Oxygen saturation\", \"Glucose\", \"label\"]]"
   ]
  },
  {
   "cell_type": "markdown",
   "id": "757852a2-6919-42e4-bc87-9a378bf4b34f",
   "metadata": {
    "tags": []
   },
   "source": [
    "# Missing values imputation\n",
    "## Continuous data\n",
    "Replace the NaNs with medians (calculated from training set) because median is not susceptible to outliers.\n",
    "## Categorical data\n",
    "Replace the NaNs with mode (calculated from training set)"
   ]
  },
  {
   "cell_type": "code",
   "execution_count": 6,
   "id": "37db7376-281d-4366-862f-44668265eb18",
   "metadata": {},
   "outputs": [
    {
     "name": "stderr",
     "output_type": "stream",
     "text": [
      "/home/yucheng/miniconda3/envs/py37/lib/python3.7/site-packages/pandas/core/generic.py:6392: SettingWithCopyWarning: \n",
      "A value is trying to be set on a copy of a slice from a DataFrame\n",
      "\n",
      "See the caveats in the documentation: https://pandas.pydata.org/pandas-docs/stable/user_guide/indexing.html#returning-a-view-versus-a-copy\n",
      "  return self._update_inplace(result)\n",
      "/home/yucheng/miniconda3/envs/py37/lib/python3.7/site-packages/pandas/core/generic.py:6392: SettingWithCopyWarning: \n",
      "A value is trying to be set on a copy of a slice from a DataFrame\n",
      "\n",
      "See the caveats in the documentation: https://pandas.pydata.org/pandas-docs/stable/user_guide/indexing.html#returning-a-view-versus-a-copy\n",
      "  return self._update_inplace(result)\n"
     ]
    }
   ],
   "source": [
    "# continuous data\n",
    "feat_con = [\"Weight\", \"pH\", \"Temperature\", \"Respiratory rate\", \"Mean blood pressure\", \"Diastolic blood pressure\", \"Heart Rate\", \"Systolic blood pressure\", \"Oxygen saturation\", \"Glucose\"]\n",
    "# training set\n",
    "data_tr_new.fillna({x: data_tr_new[x].median() for x in feat_con}, inplace = True)\n",
    "# test set\n",
    "data_te_new.fillna({x: data_tr_new[x].median() for x in feat_con}, inplace = True)"
   ]
  },
  {
   "cell_type": "code",
   "execution_count": 7,
   "id": "3583c4da-9a5e-4b7b-965b-a1236678f965",
   "metadata": {},
   "outputs": [],
   "source": [
    "# categorical data\n",
    "feat_cat = [\"Glascow coma scale verbal response\", \"Glascow coma scale motor response\", \"Glascow coma scale eye opening\"]\n",
    "# training set\n",
    "data_tr_new.fillna({x: data_tr_new[x].mode()[0] for x in feat_cat}, inplace = True)\n",
    "# test set\n",
    "data_te_new.fillna({x: data_tr_new[x].mode()[0] for x in feat_cat}, inplace = True)"
   ]
  },
  {
   "cell_type": "markdown",
   "id": "3354769d-ed26-4be2-a078-f88587919ba1",
   "metadata": {},
   "source": [
    "Encode the categorical string data into integer"
   ]
  },
  {
   "cell_type": "code",
   "execution_count": 8,
   "id": "a0503d22-a19a-4506-9144-751b292c5d8c",
   "metadata": {},
   "outputs": [],
   "source": [
    "# encode the categorical string data into integer\n",
    "def cat_string2int(x, feature_ls):\n",
    "    \n",
    "    # the num of categories in training set\n",
    "    num = len(feature_ls)\n",
    "\n",
    "    # build up the dict for maping string into int\n",
    "    str2int_dict = {string:idx for idx, string in enumerate(feature_ls)}\n",
    "\n",
    "    # if the x is not in the str2int_dict (that will happen in test set)\n",
    "    if x not in str2int_dict.keys():\n",
    "        # randomly pick a integer\n",
    "        res = random.choice(list(str2int_dict.values()))\n",
    "    else:\n",
    "        res = str2int_dict[x]\n",
    "\n",
    "    return res"
   ]
  },
  {
   "cell_type": "code",
   "execution_count": 9,
   "id": "769a2de5-517d-4aca-a3a8-5470fd91f9c1",
   "metadata": {},
   "outputs": [
    {
     "name": "stdout",
     "output_type": "stream",
     "text": [
      "feature done! - Glascow coma scale verbal response\n",
      "feature done! - Glascow coma scale motor response\n",
      "feature done! - Glascow coma scale eye opening\n"
     ]
    },
    {
     "name": "stderr",
     "output_type": "stream",
     "text": [
      "/home/yucheng/miniconda3/envs/py37/lib/python3.7/site-packages/ipykernel_launcher.py:4: SettingWithCopyWarning: \n",
      "A value is trying to be set on a copy of a slice from a DataFrame.\n",
      "Try using .loc[row_indexer,col_indexer] = value instead\n",
      "\n",
      "See the caveats in the documentation: https://pandas.pydata.org/pandas-docs/stable/user_guide/indexing.html#returning-a-view-versus-a-copy\n",
      "  after removing the cwd from sys.path.\n",
      "/home/yucheng/miniconda3/envs/py37/lib/python3.7/site-packages/ipykernel_launcher.py:5: SettingWithCopyWarning: \n",
      "A value is trying to be set on a copy of a slice from a DataFrame.\n",
      "Try using .loc[row_indexer,col_indexer] = value instead\n",
      "\n",
      "See the caveats in the documentation: https://pandas.pydata.org/pandas-docs/stable/user_guide/indexing.html#returning-a-view-versus-a-copy\n",
      "  \"\"\"\n"
     ]
    }
   ],
   "source": [
    "# encode all the categorical data [\"Glascow coma scale verbal response\", \"Glascow coma scale motor response\", \"Glascow coma scale eye opening\"]\n",
    "for feat in feat_cat:\n",
    "    feature_ls = data_tr_new[feat].unique().tolist()\n",
    "    data_tr_new[feat] = data_tr_new[feat].apply(lambda x: cat_string2int(x, feature_ls))\n",
    "    data_te_new[feat] = data_te_new[feat].apply(lambda x: cat_string2int(x, feature_ls))\n",
    "    print(f\"feature done! - {feat}\")"
   ]
  },
  {
   "cell_type": "markdown",
   "id": "6e6793f9-1a18-474e-9093-78461b249b96",
   "metadata": {},
   "source": [
    "# Select the right features for predictive model\n",
    "The strategy is to adopt stepwise forward feature selection method:\n",
    "1. use mutual information to rank the features\n",
    "2. start from the null model\n",
    "    1. add each feature from the most important to the least important\n",
    "    2. check if the changes of model performance are smaller than threshold\n",
    "        1. if yes, stop adding the feature\n",
    "        2. if no, continue"
   ]
  },
  {
   "cell_type": "code",
   "execution_count": 10,
   "id": "9df7c472-576d-43a6-a951-772839b86a43",
   "metadata": {},
   "outputs": [],
   "source": [
    "ranking_scores = mutual_info_classif(data_tr_new.iloc[:,:-1], data_tr_new.iloc[:, -1], discrete_features='auto', n_neighbors=20, copy=True, random_state=666)"
   ]
  },
  {
   "cell_type": "code",
   "execution_count": 11,
   "id": "83ca4f62-ea78-4e7e-acb8-e839f2a3a989",
   "metadata": {},
   "outputs": [],
   "source": [
    "def feature_ranking(ranking_scores):\n",
    "    feat2score = {idx:i for idx, i in enumerate(ranking_scores)}\n",
    "    \n",
    "    feat2score_sorted = {k: v for k, v in sorted(feat2score.items(), key=lambda item: item[1], reverse=True)}\n",
    "    return feat2score_sorted"
   ]
  },
  {
   "cell_type": "code",
   "execution_count": 12,
   "id": "75c50bb9-6086-4a2c-ae8a-9acc5f7a0d34",
   "metadata": {},
   "outputs": [],
   "source": [
    "ranking_feat = list(feature_ranking(ranking_scores).keys())"
   ]
  },
  {
   "cell_type": "code",
   "execution_count": 13,
   "id": "8905f2d9-bc93-44b9-9119-5568fcc3cc78",
   "metadata": {},
   "outputs": [
    {
     "name": "stdout",
     "output_type": "stream",
     "text": [
      "------------iter 0------------\n",
      "features - [2]\n",
      "Grid searching\n",
      "Best param: {'max_depth': 2, 'max_features': 'auto', 'min_samples_split': 2}\n",
      "------------iter 1------------\n",
      "features - [2, 9]\n",
      "Grid searching\n",
      "Best param: {'max_depth': 2, 'max_features': 'auto', 'min_samples_split': 2}\n",
      "------------iter 2------------\n",
      "features - [2, 9, 1]\n",
      "Grid searching\n",
      "Best param: {'max_depth': 2, 'max_features': 'auto', 'min_samples_split': 2}\n",
      "------------iter 3------------\n",
      "features - [2, 9, 1, 3]\n",
      "Grid searching\n",
      "Best param: {'max_depth': 2, 'max_features': 'auto', 'min_samples_split': 2}\n",
      "------------iter 4------------\n",
      "features - [2, 9, 1, 3, 7]\n",
      "Grid searching\n",
      "Best param: {'max_depth': 8, 'max_features': 'auto', 'min_samples_split': 8}\n",
      "------------iter 5------------\n",
      "features - [2, 9, 1, 3, 7, 8]\n",
      "Grid searching\n",
      "Best param: {'max_depth': 8, 'max_features': 'auto', 'min_samples_split': 2}\n",
      "------------iter 6------------\n",
      "features - [2, 9, 1, 3, 7, 8, 6]\n",
      "Grid searching\n",
      "Best param: {'max_depth': 8, 'max_features': 'auto', 'min_samples_split': 8}\n",
      "------------iter 7------------\n",
      "features - [2, 9, 1, 3, 7, 8, 6, 11]\n",
      "Grid searching\n",
      "Best param: {'max_depth': 8, 'max_features': 'log2', 'min_samples_split': 8}\n",
      "------------iter 8------------\n",
      "features - [2, 9, 1, 3, 7, 8, 6, 11, 10]\n",
      "Grid searching\n",
      "Best param: {'max_depth': 8, 'max_features': 'auto', 'min_samples_split': 5}\n",
      "------------iter 9------------\n",
      "features - [2, 9, 1, 3, 7, 8, 6, 11, 10, 12]\n",
      "Grid searching\n",
      "Best param: {'max_depth': 8, 'max_features': 'auto', 'min_samples_split': 5}\n",
      "------------iter 10------------\n",
      "features - [2, 9, 1, 3, 7, 8, 6, 11, 10, 12, 5]\n",
      "Grid searching\n",
      "Best param: {'max_depth': 8, 'max_features': 'auto', 'min_samples_split': 8}\n",
      "------------iter 11------------\n",
      "features - [2, 9, 1, 3, 7, 8, 6, 11, 10, 12, 5, 0]\n",
      "Grid searching\n",
      "Best param: {'max_depth': 8, 'max_features': 'auto', 'min_samples_split': 2}\n",
      "------------iter 12------------\n",
      "features - [2, 9, 1, 3, 7, 8, 6, 11, 10, 12, 5, 0, 4]\n",
      "Grid searching\n",
      "Best param: {'max_depth': 8, 'max_features': 'auto', 'min_samples_split': 5}\n"
     ]
    }
   ],
   "source": [
    "auc_roc_ls = []\n",
    "for i in range(len(ranking_feat)):\n",
    "    print(f\"------------iter {i}------------\")\n",
    "    print(f\"features - {ranking_feat[:i+1]}\")\n",
    "    data_tr_used = data_tr_new.iloc[:, ranking_feat[:i+1]]\n",
    "    \n",
    "\n",
    "    rf = RandomForestClassifier(random_state = 666)\n",
    "    parameters = {\"max_features\": [\"auto\", \"sqrt\", \"log2\"], 'max_depth': [2, 5, 8], 'min_samples_split': [2, 5, 8]}\n",
    "    \n",
    "    print(\"Grid searching\")\n",
    "    clf = GridSearchCV(rf, parameters)\n",
    "\n",
    "    clf.fit(data_tr_used, data_tr_new['label'])\n",
    "    y_prob = clf.predict_proba(data_tr_used)[:, 1]\n",
    "    print(f\"Best param: {clf.best_params_}\")\n",
    "    \n",
    "    auc_roc = roc_auc_score(data_tr_new['label'], y_prob)\n",
    "    auc_roc_ls.append(auc_roc)"
   ]
  },
  {
   "cell_type": "code",
   "execution_count": 14,
   "id": "45806474-8009-4981-9cde-136df77310f9",
   "metadata": {},
   "outputs": [
    {
     "data": {
      "text/plain": [
       "[0.5508040117857335,\n",
       " 0.6041821211632533,\n",
       " 0.6363025494879858,\n",
       " 0.6603994483416653,\n",
       " 0.7799217112159329,\n",
       " 0.7912769025829167,\n",
       " 0.7975178944592269,\n",
       " 0.8031979049078104,\n",
       " 0.8128256153241412,\n",
       " 0.8281162858477128,\n",
       " 0.8245175299346879,\n",
       " 0.8379025098438425,\n",
       " 0.8374919157864322]"
      ]
     },
     "execution_count": 14,
     "metadata": {},
     "output_type": "execute_result"
    }
   ],
   "source": [
    "auc_roc_ls"
   ]
  },
  {
   "cell_type": "code",
   "execution_count": 15,
   "id": "e83c012b-255f-4eef-931c-294ccd957e18",
   "metadata": {},
   "outputs": [
    {
     "data": {
      "image/png": "[encoded data removed]",
      "text/plain": [
       "<Figure size 432x288 with 1 Axes>"
      ]
     },
     "metadata": {
      "needs_background": "light"
     },
     "output_type": "display_data"
    }
   ],
   "source": [
    "# The changes of AUC-ROC with the feature added one-by-one\n",
    "plt.figure()\n",
    "plt.plot([i for i in range(len(auc_roc_ls))], auc_roc_ls)\n",
    "plt.xlabel(\"number of iteration\")\n",
    "plt.ylabel(\"AUC-ROC\")\n",
    "plt.savefig('changes_of_AUCROC.png')\n",
    "plt.show()"
   ]
  },
  {
   "cell_type": "markdown",
   "id": "943a985b-7f7a-4943-b721-4108c00323b8",
   "metadata": {},
   "source": [
    "The plot shows that iter 4 with feature [2, 9, 1, 3, 7] should be elbow of the curve."
   ]
  },
  {
   "cell_type": "markdown",
   "id": "931e2717-d0d1-4900-8d2b-56ef4b044997",
   "metadata": {},
   "source": [
    "Features include:"
   ]
  },
  {
   "cell_type": "code",
   "execution_count": 16,
   "id": "cfbc7c8b-ca37-4de0-b6b4-1fd89c3ef967",
   "metadata": {},
   "outputs": [
    {
     "name": "stdout",
     "output_type": "stream",
     "text": [
      "Temperature\n",
      "Glascow coma scale motor response\n",
      "pH\n",
      "Respiratory rate\n",
      "Systolic blood pressure\n"
     ]
    }
   ],
   "source": [
    "for i in data_tr_new.iloc[:, ranking_feat[:5]].columns.tolist():\n",
    "    print(i)"
   ]
  },
  {
   "cell_type": "code",
   "execution_count": 17,
   "id": "55117515-3e3d-446e-83d9-1c5a6b2a5f01",
   "metadata": {},
   "outputs": [],
   "source": [
    "data_tr4model = data_tr_new.iloc[:, ranking_feat[:5]]\n",
    "data_te4model = data_te_new.iloc[:, ranking_feat[:5]]\n",
    "y_tr = data_tr_new['label']\n",
    "y_te = data_te_new['label']"
   ]
  },
  {
   "cell_type": "markdown",
   "id": "959f3f0e-865f-42ee-acc0-7e722669fb5a",
   "metadata": {},
   "source": [
    "# Find out the best model with selected features\n",
    "The selected features: Temperature, Glascow coma scale motor response, pH, Respiratory rate, Systolic blood pressure\n",
    "## Models to evaluate\n",
    "### Logistic regression"
   ]
  },
  {
   "cell_type": "code",
   "execution_count": 18,
   "id": "7e6bad17-4816-4410-bf40-d24180f0cda3",
   "metadata": {},
   "outputs": [
    {
     "name": "stdout",
     "output_type": "stream",
     "text": [
      "Grid searching\n",
      "Best param: {'C': 0.1, 'max_iter': 100, 'solver': 'saga'}\n"
     ]
    }
   ],
   "source": [
    "lr = LogisticRegression(random_state = 666)\n",
    "parameters = {\"C\": [0.1, 1, 10], \"solver\": [\"saga\", \"liblinear\", \"lbfgs\"], \"max_iter\": [100, 200, 300]}\n",
    "\n",
    "print(\"Grid searching\")\n",
    "clf = GridSearchCV(lr, parameters, n_jobs = -1)\n",
    "\n",
    "clf.fit(data_tr4model, y_tr)\n",
    "print(f\"Best param: {clf.best_params_}\")\n",
    "\n",
    "y_tr_prob = clf.predict_proba(data_tr4model)[:, 1]\n",
    "y_te_prob = clf.predict_proba(data_te4model)[:, 1]"
   ]
  },
  {
   "cell_type": "code",
   "execution_count": 19,
   "id": "8d9bf62a-3452-4c36-b4c2-4624c1d7e421",
   "metadata": {},
   "outputs": [],
   "source": [
    "# generate ROC curves with AUC-ROC scores\n",
    "def generate_eval_info(y_tr_prob, y_tr, y_te_prob, y_te, name):\n",
    "    auc_roc_tr = roc_auc_score(y_tr, y_tr_prob)\n",
    "    auc_roc_te = roc_auc_score(y_te, y_te_prob)\n",
    "    \n",
    "    fpr_tr, tpr_tr, _ = roc_curve(y_tr, y_tr_prob)\n",
    "    fpr_te, tpr_te, _ = roc_curve(y_te, y_te_prob)\n",
    "    \n",
    "    plt.figure()\n",
    "    plt.plot(\n",
    "        fpr_tr,\n",
    "        tpr_tr,\n",
    "        color=\"darkblue\",\n",
    "        label=f\"ROC curve - training (area = {auc_roc_tr: 0.3f})\",\n",
    "    )\n",
    "    plt.plot(\n",
    "        fpr_te,\n",
    "        tpr_te,\n",
    "        color=\"darkorange\",\n",
    "        label=f\"ROC curve - test (area = {auc_roc_te: 0.3f})\",\n",
    "    )\n",
    "    plt.plot([0, 1], [0, 1], color=\"navy\", linestyle=\"--\")\n",
    "    plt.xlim([0.0, 1.0])\n",
    "    plt.ylim([0.0, 1.05])\n",
    "    plt.xlabel(\"False Positive Rate\")\n",
    "    plt.ylabel(\"True Positive Rate\")\n",
    "    plt.legend(loc=\"lower right\")\n",
    "    plt.savefig(f'{name}.png')\n",
    "    plt.show()\n"
   ]
  },
  {
   "cell_type": "code",
   "execution_count": 20,
   "id": "90bc03c3-3ea9-4f0d-b00b-02d0fb32d519",
   "metadata": {},
   "outputs": [
    {
     "data": {
      "image/png": "[encoded data removed]",
      "text/plain": [
       "<Figure size 432x288 with 1 Axes>"
      ]
     },
     "metadata": {
      "needs_background": "light"
     },
     "output_type": "display_data"
    }
   ],
   "source": [
    "generate_eval_info(y_tr_prob, y_tr, y_te_prob, y_te, \"lr\")"
   ]
  },
  {
   "cell_type": "markdown",
   "id": "a61b314d-6d22-4119-bdae-0a63e3a20f47",
   "metadata": {},
   "source": [
    "### Tree-based model\n",
    "Random forest"
   ]
  },
  {
   "cell_type": "code",
   "execution_count": 21,
   "id": "44aeb689-49b5-4a6f-92d1-f2a6dc0721ae",
   "metadata": {},
   "outputs": [
    {
     "name": "stdout",
     "output_type": "stream",
     "text": [
      "Grid searching\n",
      "Best param: {'max_depth': 8, 'max_features': 'auto', 'min_samples_split': 8}\n"
     ]
    }
   ],
   "source": [
    "rf = RandomForestClassifier(random_state = 666)\n",
    "parameters = {\"max_features\": [\"auto\", \"sqrt\", \"log2\"], 'max_depth': [2, 5, 8], 'min_samples_split': [2, 5, 8]}\n",
    "\n",
    "print(\"Grid searching\")\n",
    "clf = GridSearchCV(rf, parameters, n_jobs = -1)\n",
    "\n",
    "clf.fit(data_tr4model, y_tr)\n",
    "print(f\"Best param: {clf.best_params_}\")\n",
    "\n",
    "y_tr_prob = clf.predict_proba(data_tr4model)[:, 1]\n",
    "y_te_prob = clf.predict_proba(data_te4model)[:, 1]"
   ]
  },
  {
   "cell_type": "code",
   "execution_count": 22,
   "id": "b86d18a0-944f-449e-a123-e536b59367f2",
   "metadata": {},
   "outputs": [
    {
     "data": {
      "image/png": "[encoded data removed]",
      "text/plain": [
       "<Figure size 432x288 with 1 Axes>"
      ]
     },
     "metadata": {
      "needs_background": "light"
     },
     "output_type": "display_data"
    }
   ],
   "source": [
    "generate_eval_info(y_tr_prob, y_tr, y_te_prob, y_te, \"rf\")"
   ]
  },
  {
   "cell_type": "markdown",
   "id": "46a7fcd6-418a-4a2d-8a31-16422e63306c",
   "metadata": {},
   "source": [
    "### Support vector machine"
   ]
  },
  {
   "cell_type": "code",
   "execution_count": 27,
   "id": "dc4f39c4",
   "metadata": {},
   "outputs": [
    {
     "name": "stdout",
     "output_type": "stream",
     "text": [
      "Grid searching\n",
      "Best param: {'C': 0.1, 'gamma': 'scale', 'kernel': 'linear'}\n"
     ]
    }
   ],
   "source": [
    "svm = SVC(random_state = 666, probability=True)\n",
    "parameters = {\"C\": [0.1, 1, 10], \"kernel\": [\"linear\", \"poly\", \"rbf\"], \"gamma\": [\"scale\", \"auto\"]}\n",
    "\n",
    "print(\"Grid searching\")\n",
    "clf = GridSearchCV(svm, parameters, n_jobs = -1)\n",
    "\n",
    "clf.fit(data_tr4model, y_tr)\n",
    "print(f\"Best param: {clf.best_params_}\")\n",
    "\n",
    "y_tr_prob = clf.predict_proba(data_tr4model)[:, 1]\n",
    "y_te_prob = clf.predict_proba(data_te4model)[:, 1]"
   ]
  },
  {
   "cell_type": "code",
   "execution_count": 28,
   "id": "c3ecaf9f-1b39-43b2-844f-71147dd90ae1",
   "metadata": {},
   "outputs": [
    {
     "data": {
      "image/png": "[encoded data removed]",
      "text/plain": [
       "<Figure size 432x288 with 1 Axes>"
      ]
     },
     "metadata": {
      "needs_background": "light"
     },
     "output_type": "display_data"
    }
   ],
   "source": [
    "generate_eval_info(y_tr_prob, y_tr, y_te_prob, y_te, \"svm\")"
   ]
  },
  {
   "cell_type": "code",
   "execution_count": null,
   "id": "afb46d57-c3d1-47a7-8344-be4c7e2ff7ec",
   "metadata": {},
   "outputs": [],
   "source": []
  }
 ],
 "metadata": {
  "kernelspec": {
   "display_name": "Python 3 (ipykernel)",
   "language": "python",
   "name": "python3"
  },
  "language_info": {
   "codemirror_mode": {
    "name": "ipython",
    "version": 3
   },
   "file_extension": ".py",
   "mimetype": "text/x-python",
   "name": "python",
   "nbconvert_exporter": "python",
   "pygments_lexer": "ipython3",
   "version": "3.7.11"
  }
 },
 "nbformat": 4,
 "nbformat_minor": 5
}
